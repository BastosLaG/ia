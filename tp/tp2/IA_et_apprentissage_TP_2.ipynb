{
  "nbformat": 4,
  "nbformat_minor": 0,
  "metadata": {
    "colab": {
      "provenance": []
    },
    "kernelspec": {
      "name": "python3",
      "display_name": "Python 3"
    },
    "language_info": {
      "name": "python"
    }
  },
  "cells": [
    {
      "cell_type": "markdown",
      "source": [
        "Bienvenue dans ce second TP d’apprentissage automatique !\n",
        "\n",
        "La semaine dernière, nous avons utilisé l'apprentissage automatique pour essayer de répondre à la question “Combien d’heures devrais je réviser pour obtenir une bonne note à mon cours d’IA et apprentissage?”.\n",
        "\n",
        "Cette semaine, nous allons nous intéresser à une question légèrement différente, \"Combien d'heures devrais je réviser pour valider mon cours d'IA et apprentissage?\".\n",
        "\n",
        "Pour ce faire, nous allons développer un modèle de régression logistique univariée qui aura pour but d'estimer la probabilité qu'un.e étudiant.e a de valider en fonction du nombre d'heures qu’iel aura consacrées à la révision.\n",
        "\n",
        "Comme nous l’avons vu précédemment, la première étape nécessaire à l’élaboration de pareil modèle consiste en la récolte et création d’un jeu de données. Pour ce faire, nous avons recueilli l’année dernière des données sur 70 étudiants de la L3 Informatique et vidéoludique de Paris 8. Chaque étudiant a été invité à fournir deux informations cruciales : Le nombre d'heures qu'iel a consacrées à la révision pour le partiel, et la note qu'iel a obtenue à ce partiel. Nous avons minutieusement enregistré ces informations et avons créé un ensemble de données représentatif pour notre analyse.\n",
        "\n"
      ],
      "metadata": {
        "id": "qEgi6yWcne8y"
      }
    },
    {
      "cell_type": "markdown",
      "source": [
        "**Objectif du TP**\n",
        "\n",
        "Votre mission pour ce TP est de développer un modèle de régression logistique univariée qui permettra d'estimer la probabilité qu'a un.e étudiant.e de valider son partiel en fonction du temps de révision qu'iel consacrera pour le partiel. Vous allez apprendre à utiliser ces données pour construire le modèle, le former et évaluer ses performances.\n",
        "\n",
        "Commencez par exécutez la case suivante, qui importe toutes les librairies nécessaire à l'execution du TP."
      ],
      "metadata": {
        "id": "RL5Lv4HFEmll"
      }
    },
    {
      "cell_type": "code",
      "source": [
        "import torch\n",
        "import sklearn\n",
        "import numpy as np\n",
        "import pandas as pd\n",
        "from matplotlib import pyplot as plt"
      ],
      "metadata": {
        "id": "Lws3iPHNE3_X"
      },
      "execution_count": null,
      "outputs": []
    },
    {
      "cell_type": "markdown",
      "source": [
        "#  1. Chargement et visualisation des données\n",
        "\n",
        "Maintenant que notre environnement de travail est prêt, nous allons pouvoir charger notre jeu de données et regarder un peu à quoi il ressemble. Uploadez le fichier \"train.csv\" fourni avec ce notebook dans vos fichiers, et chargez le dans le jupyter avec la fonction pandas pd.read_csv"
      ],
      "metadata": {
        "id": "t-21mIT6LXjL"
      }
    },
    {
      "cell_type": "code",
      "source": [
        "train_df = # CODEZ ICI #"
      ],
      "metadata": {
        "id": "HDPeanleMdx_"
      },
      "execution_count": null,
      "outputs": []
    },
    {
      "cell_type": "markdown",
      "source": [
        "Affichez une description de votre jeu de données ici en utilisant la méthode .describe() associée à votre dataframe pandas"
      ],
      "metadata": {
        "id": "NC_OrUB4NkfG"
      }
    },
    {
      "cell_type": "code",
      "source": [
        "# CODEZ ICI #"
      ],
      "metadata": {
        "id": "2QI6xlx4pGZz"
      },
      "execution_count": null,
      "outputs": []
    },
    {
      "cell_type": "markdown",
      "source": [
        "\n",
        "Ajoutez au DataFrame une variable \"a_valide\", construite à partir de la variable \"note\" comme une variable binaire valant 0 (respectivement 1) si l'individu a eu une note strictement inférieure (respectivement supérieure) à 10 sur 20."
      ],
      "metadata": {
        "id": "w2ow8Nd3EP7K"
      }
    },
    {
      "cell_type": "code",
      "source": [
        "# CODEZ ICI #"
      ],
      "metadata": {
        "id": "-xqSE5UpEQG5"
      },
      "execution_count": null,
      "outputs": []
    },
    {
      "cell_type": "markdown",
      "source": [
        "En utilisant la librairie pyplot, visualisez la distribution des variables prédictives et à expliquer de votre jeu de données, ainsi que leur relation.\n",
        "\n",
        "Vous pourrez pour ce faire utiliser les fonctions pyplot plt.hist et plt.scatter"
      ],
      "metadata": {
        "id": "NF4VPS0_NyGO"
      }
    },
    {
      "cell_type": "code",
      "source": [
        "# CODEZ ICI #"
      ],
      "metadata": {
        "id": "DFXYD4m8pM-o"
      },
      "execution_count": null,
      "outputs": []
    },
    {
      "cell_type": "markdown",
      "source": [
        "Décrivez ici qualitativement votre jeu de données.\n",
        "\n",
        "Un modèle de régression logistique semble t'il indiqué ici pour implémenter un algorithme capable de déterminer si un.e étudiant aura validé son partiel à partir de son temps de révision?"
      ],
      "metadata": {
        "id": "8FfL9RNPOZwb"
      }
    },
    {
      "cell_type": "markdown",
      "source": [
        "(Ecrivez votre réponse dans cette case)"
      ],
      "metadata": {
        "id": "cxeWKskDOuop"
      }
    },
    {
      "cell_type": "markdown",
      "source": [
        "# 2. Création et ajustement d'un modèle de régression linéaire avec Pytorch.\n",
        "\n",
        "Maintenant que l'on connait mieux notre jeu de données, il est temps d'implémenter et d'ajuster notre modèle. Dans un premier temps, nous utiliserons de nouveau Pytorch.\n",
        "\n",
        "# 2.1. Implémentation du modèle\n",
        "\n",
        "Rappelez vous, afin d'implémenter un modèle en Pytorch, il est nécessaire d'implémenter un objet qui hérite de la classe torch.nn.Module. Nous devons en particulier coder les deux méthodes suivantes:\n",
        "\n",
        "\n",
        "\n",
        "*   La méthode init où l'on définiera les paramètres de notre modèle en tant qu'attributs\n",
        "*   Une méthode appelée forward, qui admet un argument, input (un tensor Torch) et qui retourne également un Tensor. C'est dans cette méthode que nous implémentererons la logique de notre couche, c'est à dire la transformation que l'on désire que notre modèle applique au Tensor input\n",
        "\n",
        "Pour rappel, un modèle de régression logistique cherche à estimer la probabilité que la variable à prédire y vaut 1 à partir de la variable d'entrée x en appliquant à cette dernière la transformation suivante:\n",
        "\n",
        "$$ y = sigmoid(coef * x + ordonnée) $$\n",
        "\n",
        "PS: La fonction torch.nn.Sigmoid devrait vous être utile pour implémenter votre modèle (attention, comme il est souvent la cas en Pytorch, il s'agit ici aussi également d'un objet)"
      ],
      "metadata": {
        "id": "1KtkObEpPVAl"
      }
    },
    {
      "cell_type": "markdown",
      "source": [],
      "metadata": {
        "id": "usYm3_Sqq1FV"
      }
    },
    {
      "cell_type": "markdown",
      "source": [],
      "metadata": {
        "id": "4hZ0wwYK3t0r"
      }
    },
    {
      "cell_type": "code",
      "source": [
        "class LogisticRegression(torch.nn.Module):\n",
        "    def __init__(self):\n",
        "        \"\"\"\n",
        "        La méthode __init__ est utilisée pour définir tous les paramètres du\n",
        "        modèle (les coefficients que l'on va pouvoir faire varier pendant\n",
        "        la descente de gradient)\n",
        "        \"\"\"\n",
        "        super(LogisticRegression, self).__init__()\n",
        "        # Définissez ici le coefficient directeur de notre modèle, comme une\n",
        "        # instance de Parameter initialisé par un Tensor de valeur [1]\n",
        "        self.coefficient = # CODEZ ICI #\n",
        "        # Déginissez ici l'ordonnée à l'origine du modèle, comme une\n",
        "        # instance de Parameter initialisé par un Tensor de valeur [0]\n",
        "        self.ordonnee = # CODEZ ICI #\n",
        "\n",
        "    def forward(self, input):\n",
        "        \"\"\"\n",
        "        La méthode forwad est utilisée pour définir la logique de notre modèle.\n",
        "        c'est à dire la transformation que l'on veut appliquer à l'entrée input\n",
        "        avec nos paramètres self.coefficient et self.ordonnee\n",
        "        \"\"\"\n",
        "        output = # CODEZ ICI #\n",
        "        return output"
      ],
      "metadata": {
        "id": "-Odf3E1Bavyk"
      },
      "execution_count": null,
      "outputs": []
    },
    {
      "cell_type": "markdown",
      "source": [
        "# 2.2. Ajustement du modèle\n",
        "\n",
        "Comme vu en cours, l'implémentation d'un modèle d'apprentissage machine dépend de la définition de 4 entités distinctes:\n",
        "\n",
        "\n",
        "*   Un jeu de données constitué d'exemples de paires variable prédictive - variable à prédire\n",
        "*   Un modèle, définit comme une fonction paramétrique qui prend comme argument la variable prédictive et essaie de rendre en sortie une approximation de la variable à prédire\n",
        "*   Une fonction objectif (ou fonction coût) qui prend comme argument les paramètre du modèle et rend en sortie un scalaire indiquant à quel point notre modèle \"prédit bien\" la variable à prédire à partir de la variable prédictive\n",
        "*   Un algorithme d'optimisation pour trouver le minimum de cette fonction objectif (et ainsi trouver notre modèle comme l'argument de ce minimum)\n",
        "\n",
        "Le jeu de données étant collecté et le modèle déjà implémenté, il ne nous reste plus qu'à définir notre fonction objectif, et notre algorithme d'optimisation!\n",
        "\n",
        "Comme on l'a vu la semaine dernière, PyTorch propose tout une variété d'algorithme d'optimisation et de fonction objectif, en fonction des besoins et des envies. Nous nous intérésserons dans ce TP aux deux objets suivant:\n",
        "\n",
        "*   torch.nn.BCE comme fonction objectif (BCE pour Binary Cross Entropy)\n",
        "*   torch.optim.SGD comme algorithme de descente de gradient (SGD pour Stochastic Gradient Descent)"
      ],
      "metadata": {
        "id": "UdUsczwfq2J0"
      }
    },
    {
      "cell_type": "code",
      "source": [
        "def train_model(X, y, num_iter=10, learning_rate=0.01):\n",
        "\n",
        "    # On instancie notre modèle\n",
        "    model = # CODEZ ICI #\n",
        "\n",
        "    # On définit notre fonction perte\n",
        "    objectif = # CODEZ ICI #\n",
        "\n",
        "    # On définit notre algorithme d'optimisation (SGD: Stochastic Gradient Descent)\n",
        "    optimizer = # CODEZ ICI #\n",
        "\n",
        "    trajectory = []\n",
        "\n",
        "    for _ in range(num_iter):\n",
        "        inputs = torch.tensor(X)\n",
        "        targets = torch.tensor(y)\n",
        "\n",
        "        # Calculez les prédictions\n",
        "        outputs = # CODEZ ICI #\n",
        "\n",
        "        # Calculer la fonction objectif à partir des prédictions et des targets\n",
        "        loss = # CODEZ ICI #\n",
        "\n",
        "        # Calcule le gradient\n",
        "        # CODEZ ICI#\n",
        "\n",
        "        # Applique une itération de descente de gradient aux paramètres du modèle\n",
        "        optimizer.step()\n",
        "\n",
        "    return model"
      ],
      "metadata": {
        "id": "M-slPdkFeODL"
      },
      "execution_count": null,
      "outputs": []
    },
    {
      "cell_type": "markdown",
      "source": [
        "Maintenant que la fonction train_model est implémentée, nous pouvons l'appeler sur notre jeu de données et obtenir un modèle ajusté!\n",
        "\n",
        "Pour évaluer ses performances, il nous suffit simplement par la suite d'obtenir les prédictions du modèle en lui donnant en entrée nos variables explicatives, puis de calculer le taux d'exactitude.\n",
        "\n",
        "Ajuster et évaluer les performances de votre modèle pour les valeurs suivantes de l'argument learning rate: [1, 0.1, 0.01, 0.001]"
      ],
      "metadata": {
        "id": "3KYZWgrFuoE-"
      }
    },
    {
      "cell_type": "code",
      "source": [
        "X = torch.tensor(train_df.num_heures)\n",
        "y = torch.tensor(train_df.valide)\n",
        "\n",
        "for learning_rate in [1., .1, .01, 0.001]:\n",
        "  # Utilisez la fonction train_model pour ajuster un modèle de régression logistique sur votre jeux de données\n",
        "  model = # CODEZ ICI #\n",
        "\n",
        "  # Utilisez le modèle obtenu pour calculez ses prédictions\n",
        "  predictions = # CODEZ ICI #\n",
        "\n",
        "  # Calculez le taux d'exactitude du modèle\n",
        "  accuracy = # CODEZ ICI #\n",
        "\n",
        "  print(\"Learning_rate = %.3f : Taux d'exactitude = %.3f\" % (learning_rate, accuracy))"
      ],
      "metadata": {
        "id": "lHSA-kghunMD"
      },
      "execution_count": null,
      "outputs": []
    },
    {
      "cell_type": "markdown",
      "source": [
        "# 3. La même chose avec scikit-learn\n",
        "\n",
        "Félicitation! Vous venez d'implémenter vos premiers modèles de classification avec Pytorch.\n",
        "\n",
        "Comme nous l'avons vu la semaine dernière, pour implémenter des modèles très simples comme ceux que l'on a vu au cours de ce TP, quelques lignes de codes avec la librairie scikit-learn suffisent.\n",
        "\n",
        "Voyez plutôt:"
      ],
      "metadata": {
        "id": "5EhSntXQ_Aln"
      }
    },
    {
      "cell_type": "code",
      "source": [
        "from sklearn.linear_model import LogisticRegression\n",
        "\n",
        "X = X.numpy().reshape([-1, 1])\n",
        "y = y.numpy().reshape([-1, 1])\n",
        "\n",
        "model = LogisticRegression(penalty=None, multiclass='multinomial')\n",
        "model.fit(X, y)\n",
        "y_preds = model.predict(X)\n",
        "accuracy = np.mean(y_preds == y)\n",
        "print(\"Accuracy du modèle: %.3f\" % accuracy)"
      ],
      "metadata": {
        "id": "woifG7Oq_ebp"
      },
      "execution_count": null,
      "outputs": []
    },
    {
      "cell_type": "markdown",
      "source": [
        "# 4. Régression logistique et données déséquilibrées\n",
        "\n",
        "J'ose espérer que certains d'entre vous, plutôt que de s'intéresser à prédire si vous allez valider ou non votre cours d'IA et apprentissage, préfèreraient savoir s'ils valideront avec une bonne note.\n",
        "\n",
        "Nous pourrions donc nous intéresser à une question encoree légèrement différente, \"Combien d'heures devrais je réviser pour avoir plus de 15 à mon partiel d'IA et apprentissage?\"\n",
        "\n",
        "Ajoutez au DataFrame une variable \"a_valide_plus\", construite à partir de la variable \"note\" comme une variable binaire valant 0 (respectivement 1) si l'individu a eu une note strictement inférieure (respectivement supérieure) à 15 sur 20."
      ],
      "metadata": {
        "id": "4FT164zSMyI2"
      }
    },
    {
      "cell_type": "markdown",
      "source": [
        "En utilisant la librairie pyplot, visualisez la distribution des variables prédictives et à expliquer de votre jeu de données, ainsi que leur relation.\n",
        "\n",
        "Vous pourrez pour ce faire utiliser les fonctions pyplot plt.hist et plt.scatter"
      ],
      "metadata": {
        "id": "UeB6huaZa2Fu"
      }
    },
    {
      "cell_type": "code",
      "source": [
        "# CODEZ ICI #"
      ],
      "metadata": {
        "id": "YjfjtuiVa2F8"
      },
      "execution_count": null,
      "outputs": []
    },
    {
      "cell_type": "markdown",
      "source": [
        "Décrivez ici qualitativement votre jeu de données.\n",
        "\n",
        "Un modèle de régression logistique semble t'il indiqué ici pour implémenter un algorithme capable de déterminer la note qu'un étudiant aura au partiel à partir de son temps de révision?\n",
        "\n",
        "Quel choix de métrique proposez vous pour correctement estimer les performances de votre modèle?"
      ],
      "metadata": {
        "id": "oSRbDAPda2F8"
      }
    },
    {
      "cell_type": "markdown",
      "source": [
        "(Ecrivez votre réponse dans cette case)"
      ],
      "metadata": {
        "id": "SH9K1FzOa2F8"
      }
    },
    {
      "cell_type": "markdown",
      "source": [
        "Ajustez un modèle de régression logistique en utilisant la librairie scikit-learn afin de prédire cette nouvelle variable \"valide_plus\" à partir de la variable \"num_heures\". Evaluez ensuite ce modèle avec la ou les métrique de votre choix, et calculez également la proportion d'individus que le modèle prédit à 1."
      ],
      "metadata": {
        "id": "EmloWVvnbHbT"
      }
    },
    {
      "cell_type": "code",
      "source": [
        "# CODEZ ICI #"
      ],
      "metadata": {
        "id": "PTmAiPEdVHJ6"
      },
      "execution_count": null,
      "outputs": []
    }
  ]
}