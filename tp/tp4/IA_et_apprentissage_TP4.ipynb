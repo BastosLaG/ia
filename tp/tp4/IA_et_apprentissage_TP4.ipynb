{
  "nbformat": 4,
  "nbformat_minor": 0,
  "metadata": {
    "colab": {
      "provenance": []
    },
    "kernelspec": {
      "name": "python3",
      "display_name": "Python 3"
    },
    "language_info": {
      "name": "python"
    }
  },
  "cells": [
    {
      "cell_type": "markdown",
      "source": [
        "Bienvenu dans ce quatrième TP d'apprentissage automatique!\n",
        "\n",
        "Maintenant que nous commençons à être bien à l'aise avec les méthodes de régression et de classification, (qu'elles soient linéaire, polynomiales ou autre), nous allons délaisser notre jeu de données d'étudiants et de partiels pour découvrir le joyeux monde de la reconnaissance d'images!\n",
        "\n",
        "Dans ce TP, (et les deux qui suivront), nous nous intéresserons à l'application de méthodes d'apprentissage automatique pour reconnaître dans des images des chiffres écrits à la main. Plus précisément, notre jeu de donnée est constitué de photographies (à une résolution relativement faible) sur lesquelles un unique chiffre est écrit. Notre tâche est de créer une fonction qui prend en entrée cette image, et qui retourne en sortie un entier, correspondant à l'entier affiché sur l'image.\n",
        "\n",
        "Pour résumer, nos variables sont les suivantes:\n",
        "\n",
        "\n",
        "*   Variables explicatives: Ensemble des pixels d'une image. En l'occurence pour le jeu de données de ce TP, 8x8 pixels en nuance de gris, chacun correspondant à une variable quantitative (donc 64 variables au total\n",
        "*   Variable à expliquer/prédire: Chiffre présent sur l'image, qui correspond donc à une variable catégorielle à 10 états (autant que de chiffres en base 10)\n",
        "\n",
        "\n",
        "Cette tâche a longtemps été un benchmark classique en apprentissage, et quand bien même elle est maintenant considérée comme bien trop simple pour évaluer des modèles modernes, elle reste très pratique (et très usitée) pour l'enseignement.\n",
        "\n",
        "Cependant, avant de commencer à nous amuser avec ce jeu de données, nous allons une nouvelle fois passer un peu de temps à se familiariser avec le calcul vectoriel et les manipulations de tableau avec numpy. Courage! Tout va bien se passer.\n",
        "\n",
        "Commencez par executer la case suivante, qui import toutes les librairies nécessaires à l'exécution du TP."
      ],
      "metadata": {
        "id": "oo4Vao9pOXAj"
      }
    },
    {
      "cell_type": "code",
      "source": [
        "import numpy as np\n",
        "from sklearn import datasets\n",
        "from sklearn.linear_model import LogisticRegression\n",
        "from sklearn.preprocessing import PolynomialFeatures\n",
        "np.random.seed(0)"
      ],
      "metadata": {
        "id": "UGfcG1ycQ1oT"
      },
      "execution_count": 2,
      "outputs": []
    },
    {
      "cell_type": "markdown",
      "source": [
        "# 1. Calcul vectoriel et manipulation de tableau avec numpy\n",
        "\n",
        "Pour commencer, voici deux array numpy générés aléatoirement qui nous servirons à effectuer différentes manipulations."
      ],
      "metadata": {
        "id": "tXjtaBYfRzhb"
      }
    },
    {
      "cell_type": "code",
      "source": [
        "W = np.random.uniform(0, 1, size=[3, 5])"
      ],
      "metadata": {
        "id": "mGKaVGqtR6gl"
      },
      "execution_count": 3,
      "outputs": []
    },
    {
      "cell_type": "markdown",
      "source": [
        "Affichez la shape de ces deux tableaux en utilisant la méthode .shape"
      ],
      "metadata": {
        "id": "ivkCBrRmSiAs"
      }
    },
    {
      "cell_type": "code",
      "source": [
        "## CODEZ ICI ##"
      ],
      "metadata": {
        "id": "Wp5L8-hOSnWE"
      },
      "execution_count": null,
      "outputs": []
    },
    {
      "cell_type": "markdown",
      "source": [
        "Affichez la valeur moyenne de chaque ligne du tableau W, d'abord en utilisant des boucles for, puis en utilisant seulement la fonction np.mean.\n",
        "\n",
        "N'hésitez pas à consulter sa documentation pour comprendre comment l'utiliser.\n",
        "\n",
        "NB: La fonction np.mean peut aussi implémentée comme méthode d'un objet array."
      ],
      "metadata": {
        "id": "7g_koAUvSo8z"
      }
    },
    {
      "cell_type": "code",
      "source": [
        "## CODEZ ICI L'IMPLEMENTATION AVEC DES BOUCLES FOR ##\n",
        "\n",
        "\n",
        "## CODEZ ICI L'IMPLEMENTATION AVEC np.mean ##"
      ],
      "metadata": {
        "id": "8J5NP4JBTOKU"
      },
      "execution_count": null,
      "outputs": []
    },
    {
      "cell_type": "markdown",
      "source": [
        "Affichez la somme des deux derniers termes de chaque colonne de W, d'abord en utilisant des boucles for, puis en utilisant seulement la fonction np.sum.\n",
        "\n",
        "N'hésitez pas à consulter sa documentation pour comprendre comment l'utiliser.\n",
        "\n",
        "NB: La fonction np.mean peut aussi implémentée comme méthode d'un objet array."
      ],
      "metadata": {
        "id": "tejTaVz1TXo8"
      }
    },
    {
      "cell_type": "code",
      "source": [
        "## CODEZ ICI L'IMPLEMENTATION AVEC DES BOUCLES FOR ##\n",
        "\n",
        "\n",
        "## CODEZ ICI L'IMPLEMENTATION AVEC np.mean ##"
      ],
      "metadata": {
        "id": "iAUV63JIToX8"
      },
      "execution_count": null,
      "outputs": []
    },
    {
      "cell_type": "markdown",
      "source": [
        "Implémentez la fonction python_dot, qui prend en entrée deux listes de floats de même longueur, et qui retourne la combinaison linéaire de ces deux listes (c'est à dire la somme du produit élément par élément de chaque liste)"
      ],
      "metadata": {
        "id": "oJuw2raxTrM2"
      }
    },
    {
      "cell_type": "code",
      "source": [
        "def python_dot(a, b):\n",
        "  ## CODEZ ICI ##\n",
        "  return None"
      ],
      "metadata": {
        "id": "hFDy4mfYZzw0"
      },
      "execution_count": null,
      "outputs": []
    },
    {
      "cell_type": "markdown",
      "source": [
        "Implémentez la fonction numpy_dot, qui prend en entrée deux array numpy de dimension 1 et de même shape, et qui retourne la combinaison linéaire de ces deux arrays. Cette fonction a donc exactement le même comportement que python_dot, mais utilise des manipulations numpy au lieu de python."
      ],
      "metadata": {
        "id": "R5Mh_NEkZ9o-"
      }
    },
    {
      "cell_type": "code",
      "source": [
        "def numpy_dot(a, b):\n",
        "  ## CODEZ ICI ##\n",
        "  return None"
      ],
      "metadata": {
        "id": "n2jaDnjgaVBz"
      },
      "execution_count": null,
      "outputs": []
    },
    {
      "cell_type": "markdown",
      "source": [
        "Comparez le temps d'exécution de mille appels à ces deux fonctions sur les array a et b définis dans la case de code suivantes.\n",
        "\n",
        "---\n",
        "\n"
      ],
      "metadata": {
        "id": "Uu05rh9dbExX"
      }
    },
    {
      "cell_type": "code",
      "source": [
        "a = np.random.uniform(0, 1, size=[100])\n",
        "b = np.random.uniform(0, 1, size=[100])\n",
        "\n",
        "## CODEZ ICI ##"
      ],
      "metadata": {
        "id": "4Zmx-pcObMf5"
      },
      "execution_count": null,
      "outputs": []
    },
    {
      "cell_type": "markdown",
      "source": [
        "Implémentez la fonction python_matmul qui prend en entrée une matrice a (encodées sous forme de liste de listes toutes de même tailles, et un vecteur b tel que len(b) == len(a[0])  qui retourne leur produit matriciel. Rappelez vous, le produit d'une matrice et d'un vecteur correspond à la liste des combinaisons linéaires du vecteur avec chaque ligne de la matrice."
      ],
      "metadata": {
        "id": "XpHO95Knbk2I"
      }
    },
    {
      "cell_type": "code",
      "source": [
        "def python_matmul(a, b):\n",
        "  ## CODEZ ICI##\n",
        "  return None"
      ],
      "metadata": {
        "id": "026VGSIxcnZo"
      },
      "execution_count": null,
      "outputs": []
    },
    {
      "cell_type": "markdown",
      "source": [
        "Implémentez la fonction numpy_matmul, qui prend en entrée une matrice a (encodée comme un array numpy de shape [dim_out, dim_in]) et un vecteur b encodé comme un array numpy également, mais de shape [dim_in, 1] et qui retourne leur produit matriciel, exactement comme la fonction python_matmul"
      ],
      "metadata": {
        "id": "Cjyb8Rfuc-7c"
      }
    },
    {
      "cell_type": "code",
      "source": [
        "def numpy_matmul(a, b):\n",
        "  ## CODEZ ICI##\n",
        "  return None"
      ],
      "metadata": {
        "id": "fZUzZLLpcrTE"
      },
      "execution_count": null,
      "outputs": []
    },
    {
      "cell_type": "markdown",
      "source": [
        "Comparez le temps d'exécution de mille appels à ces deux fonctions sur les array a et b définis dans la case de code suivantes.\n"
      ],
      "metadata": {
        "id": "Gx1QeBctdQCh"
      }
    },
    {
      "cell_type": "code",
      "source": [
        "a = np.random.uniform(0, 1, size=[100, 500])\n",
        "b = np.random.uniform(0, 1, size=[500, 1])\n",
        "\n",
        "## CODEZ ICI ##"
      ],
      "metadata": {
        "id": "LwM8NXztdgQM"
      },
      "execution_count": null,
      "outputs": []
    },
    {
      "cell_type": "markdown",
      "source": [],
      "metadata": {
        "id": "UuaWjoXjdzCg"
      }
    },
    {
      "cell_type": "markdown",
      "source": [
        "2. Régression polynomiale et reconnaissance de chiffres écrits\n",
        "\n",
        "Il est maintenant temps de faire notre premier projet de \"véritable\" apprentissage machine, avec notre projet de reconnaissance de caractères écrits à la main. Exécutez la case suivante, qui télécharge votre jeu de données et en extrait les variables explicatives et à expliquer."
      ],
      "metadata": {
        "id": "uIu-uAgMghgN"
      }
    },
    {
      "cell_type": "code",
      "source": [
        "dataset = datasets.load_digits()\n",
        "\n",
        "X, y = dataset.images, dataset.target\n"
      ],
      "metadata": {
        "id": "GNkPSboDg47o"
      },
      "execution_count": null,
      "outputs": []
    },
    {
      "cell_type": "markdown",
      "source": [
        "En utilisant la librairie pyplot, visualisez la distribution des variables prédictives et à expliquer de votre jeu de données.\n",
        "\n",
        "Vous pourrez pour ce faire utiliser les fonctions pyplot plt.hist et plt.imshow."
      ],
      "metadata": {
        "id": "bPFR4-euhA6z"
      }
    },
    {
      "cell_type": "code",
      "source": [
        "## CODEZ ICI ##"
      ],
      "metadata": {
        "id": "MCQQAXgghJvs"
      },
      "execution_count": null,
      "outputs": []
    },
    {
      "cell_type": "markdown",
      "source": [
        "Est il facile de visualiser la relation entre les variables explicatives et la variable à expliquer?"
      ],
      "metadata": {
        "id": "70lowhQIhLDZ"
      }
    },
    {
      "cell_type": "markdown",
      "source": [
        "(Ecrivez votre réponse dans cette case)"
      ],
      "metadata": {
        "id": "0bQrgzynhP5-"
      }
    },
    {
      "cell_type": "markdown",
      "source": [
        "Comme il est impossible (ou très difficile) de savoir a priori quel type de modèle utiliser, nous allons tester plusieurs modèles de régressions logistique polynomiale, de degré 1 à 4. Pour pouvoir les comparer efficacement, il sera donc nécessaire de décomposer le jeu de données en un jeu d'entraînement et un jeu de test.\n",
        "\n",
        "De plus, les images sont encodées en array de shape [num_images, hauteur, largeur]. Or, les modèles que l'on a vu jusqu'ici ne sont capables que de prendre en entrées des vecteurs, et non des matrices. Il nous sera donc nécessaire de faire un reshape sur les variables d'entrées.\n",
        "\n"
      ],
      "metadata": {
        "id": "HJLGFuYRhSG6"
      }
    },
    {
      "cell_type": "code",
      "source": [
        "# Modifier la shape de l'array X afin qu'il soit compatible avec l'objet LogisticRegression de sklearn\n",
        "X = ## CODEZ ICI ##~\n",
        "\n",
        "# Répartissez aléatoirement les élements du jeu de données (X et y) dans un jeu d'entraînement et un jeu de test\n",
        "## CODEZ ICI ##\n",
        "X_train = ## CODEZ ICI ##\n",
        "y_train = ## CODEZ ICI ##\n",
        "\n",
        "X_test = ## CODEZ ICI ##\n",
        "y_test = ## CODEZ ICI ##"
      ],
      "metadata": {
        "id": "3VWWnzNFh5fY"
      },
      "execution_count": null,
      "outputs": []
    },
    {
      "cell_type": "markdown",
      "source": [
        "Utilisez les objets LogisticRegression et PolynomialFeature de sklearn pour implémentez 4 modèles distincts de régression polynomial (un pour chaque degré, de 1 à 4) et comparez les résultats que vous obtenez sur le jeu d'entraînement et le jeu de test."
      ],
      "metadata": {
        "id": "TNGtbdn-iVpD"
      }
    },
    {
      "cell_type": "code",
      "source": [
        "## CODEZ ICI ##"
      ],
      "metadata": {
        "id": "gLAh4Rtsiiyb"
      },
      "execution_count": null,
      "outputs": []
    },
    {
      "cell_type": "markdown",
      "source": [
        "Que constatez vous?"
      ],
      "metadata": {
        "id": "jTizWdZZikBp"
      }
    },
    {
      "cell_type": "markdown",
      "source": [
        "(Inscrivez votre réponse dans cette case)"
      ],
      "metadata": {
        "id": "zLKQ-I82ilMB"
      }
    }
  ]
}