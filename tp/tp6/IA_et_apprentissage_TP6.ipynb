{
  "nbformat": 4,
  "nbformat_minor": 0,
  "metadata": {
    "colab": {
      "provenance": []
    },
    "kernelspec": {
      "name": "python3",
      "display_name": "Python 3"
    },
    "language_info": {
      "name": "python"
    }
  },
  "cells": [
    {
      "cell_type": "markdown",
      "source": [
        "# Réseau à convolution et reconnaissance de chiffres écrits à la main\n",
        "\n",
        "Bienvenu dans ce TP d'IA et apprentissage, dans lequel nous allons continuer de nous familiariser avec les méthodes d'apprentissage profond.\n",
        "\n",
        "La semaine dernière, nous avions réussi à ajuster un perceptron multi-couche sur le jeu de données MNIST. Même si cette approche donnait de (relativement) bon résultats, avec une accuracy d'environ 97%, nous venons de voir en cours que les réseaux à convolution constituent une famille de modèles bien plus adaptés à l'analyse d'images (ou de données en structure de grille, plus généralement).\n",
        "\n",
        "Rappelez vous, le jeu MNIST se décompose en un jeu d'entrainement et un jeu de test, qui contiennent tous les deux des images de chiffres écrits à la main, de 28x28 pixels en nuance de gris.\n",
        "\n",
        "L'objectif de ce TP est d'ajuster un petit réseau de neurones à convolution sur ce jeu de données et d'évaluer ses performances sur le jeu de test. Pour ce faire, nous utiliserons d'abord le code pytorch que nous avons implémenté la semaine dernière la librairie pytorch, puis la librairie Huggingface, spécialisée en apprentissage profond (et tout particulièrement en traiterment automatique des langues), qui implémente un certain nombre de fonctionnalité qui permette de simplifier le développement d'un modèle d'apprentissage profond avec pytorch.\n",
        "\n",
        "Commencez par executer les deux cases suivantes, qui importe toutes les librairies nécessaires à l'exécution du TP."
      ],
      "metadata": {
        "id": "cGbhqMFHIvXh"
      }
    },
    {
      "cell_type": "code",
      "source": [
        "!pip install transformer\n",
        "!pip install datasets"
      ],
      "metadata": {
        "id": "xcTGp3UuKivw"
      },
      "execution_count": null,
      "outputs": []
    },
    {
      "cell_type": "code",
      "source": [
        "import torch\n",
        "from torchvision.datasets import MNIST"
      ],
      "metadata": {
        "id": "COR7MUVIKwUL"
      },
      "execution_count": null,
      "outputs": []
    },
    {
      "cell_type": "markdown",
      "source": [
        "# 1. Chargement, prétraitement et visualisation du jeu de données\n",
        "\n",
        "Chargez le jeu de données MNIST directement dans la session jupyter. N'hésitez pas à vous inspirer du code présent dans le TP de la semaine dernière!\n",
        "\n",
        "Attention en revanche, quand vous préparerez les dictionnaires contenant les données. La semaine dernière, nous avions applati les images afin de pouvoir les injecter dans un perceptron multicouche. Cette fois ci, puisque nous utilisons un réseau à convolution, les entrées doivent être des tenseurs 3D de shape [num_observations, profondeur, hauteur, largeur], qui est le format que les couches de convolution de Pytorch attendent."
      ],
      "metadata": {
        "id": "-s48yVyMOaUX"
      }
    },
    {
      "cell_type": "code",
      "source": [
        "## CODEZ ICI ##"
      ],
      "metadata": {
        "id": "lc7K_yYsOm4p"
      },
      "execution_count": null,
      "outputs": []
    },
    {
      "cell_type": "markdown",
      "source": [
        "Comme d'habitude, commencez par vous familiarisez avec le jeu de données, en visualisant les données d'entrées, en vous intéressant au nombre d'observations présentes dans le jeu de données, comment les variables explicatives peuvent varier, et caetera."
      ],
      "metadata": {
        "id": "QH-_78ZePbQB"
      }
    },
    {
      "cell_type": "code",
      "source": [
        "## CODEZ ICI ##"
      ],
      "metadata": {
        "id": "xDjzLYZSPgK0"
      },
      "execution_count": null,
      "outputs": []
    },
    {
      "cell_type": "markdown",
      "source": [
        "Comme dans le TP précédent, normalisez les images présentes dans vos deux dictionnaires de données. Il est très important que cette étape de prétraitement devienne seconde nature pour vous. En effet, elle ne coûte pas grand chose, et améliore facilite grandement la descente de gradient."
      ],
      "metadata": {
        "id": "dMpyrpZrPkDf"
      }
    },
    {
      "cell_type": "code",
      "source": [
        "## CODEZ ICI ##"
      ],
      "metadata": {
        "id": "yglRh35gQHOp"
      },
      "execution_count": null,
      "outputs": []
    },
    {
      "cell_type": "markdown",
      "source": [
        "# 2.Ajustement d'u modèle avec Pytorch\n",
        "\n",
        "Maintenant que vous avez préparé votre jeu de données, il est temps d'ajuster un modèle d'apprentissage profond avec PyTorch!\n",
        "\n",
        "# 2.1 Préparation des données pour l'ajustement du modèle\n",
        "\n",
        "L'avantage considérable que nous avons aujourd'hui par rapport à la semaine dernière, c'est que tout le code que vous avez déjà écrit, hormis l'instanciation du modèle (qui inévitablement sera différent) reste parfaitement applicable!\n",
        "\n",
        "La seule différence dans votre code sera la façon dont vous instanciez le modèle, qui sera cette fois ci un réseau de neurones à convolution!\n",
        "\n",
        "Pour commencez, instanciez votre DataLoader d'entraînement, afin de pouvoir effectuez votre descentde gradient de manière stochastique (encore une fois, n'hésitez surtout pas à vous inspirer du TP précédent).\n"
      ],
      "metadata": {
        "id": "GbJ4EZHrQLx5"
      }
    },
    {
      "cell_type": "code",
      "source": [
        "torch_train_dataset = ## CODEZ ICI ##\n",
        "train_dataloader = ## CODEZ ICI ##"
      ],
      "metadata": {
        "id": "7yWRLpC6SUH-"
      },
      "execution_count": null,
      "outputs": []
    },
    {
      "cell_type": "markdown",
      "source": [
        "# 2.2 Définition du modèle\n",
        "\n",
        "Celui ci sera de nouveau basé sur un objet torch.nn.Sequential, mais cette fois ci contenant une alternance de couches torch.nn.Conv2d et torch.nn.Relu.\n",
        "\n",
        "Une étape sera cependant nécessaire avant de conclure notre modèle par une couche linéaire avec une sortie de dimensionalité le nombre de classe à prédire dans notre problème. En effet, comme mentionné plus haut, une couche Linear de pytorch s'attend à recevoir des données vectorielles, et non sous forme de grille. Il va donc nous falloir applatir notre dernière carte d'activation avant de la passer dans notre couche Linear, ce que l'on peut faire très simplement avec la couche torch.nn.Flatten.\n",
        "\n",
        "N'hésitez pas à consulter la documentation des objets torch.nn.Conv2D et torch.nn.Flatten pour bien comprendre comment les instancier correctement, et comment régler les hyperparamètres de la convolution (nombre de neurones, taille des sous-matrices, taille du décalage, padding, etc).\n",
        "\n",
        "Pour éviter d'avoir à relancer tout le temps la cellule jupyter instanciant notre modèle, nous allons cette fois ci écrire une fonction python qui l'instanciera pour nous. Celle ci est définie pour l'instant avec un unique argument, hidden_size (censé définir le nombre de neurones par couches pour chaque couche du modèle), mais n'hésitez pas à être créatif, il est possible d'instancier un modèle totalement automatiquement, par exemple à l'aide d'un dictionnaire d'hyperparamètres!"
      ],
      "metadata": {
        "id": "nVaunzQaSdlx"
      }
    },
    {
      "cell_type": "code",
      "source": [
        "def create_model(hidden_size):\n",
        "  ## CODEZ ICI ##\n",
        "\n",
        "my_model = create_model(50)"
      ],
      "metadata": {
        "id": "PzxYc3--SxkD"
      },
      "execution_count": null,
      "outputs": []
    },
    {
      "cell_type": "markdown",
      "source": [
        "Maintenant que le modèle est instancié, il nous suffit de l'ajuster par descente de gradient, comme nous l'avons toujours fait!\n",
        "\n",
        "Et comme promis, la fonction train_model que vous avez implémentéla semaine dernière fonctionnera tout autant pour le modèle de cette semaine qu'elle fonctionnait pour le perceptron multicouches de la semaine dernière!\n",
        "\n",
        "Implémentez là dans la cellule suivante."
      ],
      "metadata": {
        "id": "c_JD8xBKS0b9"
      }
    },
    {
      "cell_type": "code",
      "source": [
        "def train_model(dataloader, model, num_epochs=5, learning_rate=0.001):\n",
        "\n",
        "  ## CODEZ ICI ##\n",
        "\n",
        "  return None"
      ],
      "metadata": {
        "id": "mW4Qfo08TIKD"
      },
      "execution_count": null,
      "outputs": []
    },
    {
      "cell_type": "markdown",
      "source": [
        "Nous disposons maintenant de tous les éléments nécessaires à l'implémentation et l'ajustement du modèle. Il ne nous reste plus qu'à ajuster, et évaluer les performances sur le jeu de donnéres de test!"
      ],
      "metadata": {
        "id": "i-hAFma8TazY"
      }
    },
    {
      "cell_type": "code",
      "source": [
        "## CODEZ ICI ##"
      ],
      "metadata": {
        "id": "JkZYjK7ZTkle"
      },
      "execution_count": null,
      "outputs": []
    },
    {
      "cell_type": "markdown",
      "source": [
        "# 3. Ajustement avec HuggingFace\n",
        "\n",
        "Ajuster un modèle d'apprentissage profond avec pytorch directement est un peu laborieux. Ca ne se voit peut être pas dans notre exemple précédent, mais pour correctement ajuster des modèles modernes, tout une série de petites astuces sont nécessaires, et chacune amène une couche de complexité dans le programme.\n",
        "\n",
        "La librairie HuggingFace consiste en une surcouche sur pytorch, initialement prévue pour les modèles de langue, qui implémente directement ces méthodes, et simplifie considérablement le processus d'ajustement d'un modèle.\n",
        "\n",
        "Nous allons maintenant voir ensemble comment ajuster le même modèle avec cette librairie!\n",
        "\n",
        "En plus de notre modèle, il est nécessaire d'instancier deux autres types objets avec HuggingFace:\n",
        "\n",
        "\n",
        "*   Des objets Dataset (de la librairie datasets), qui permettront à HuggingFace de gérer efficacement nos jeux de données\n",
        "*   Un objet Trainer, qui s'occupe de gérer toute la complexité de la boucle d'ajustement par descente de gradient\n",
        "\n",
        "L'objet Trainer présente un certain nombre d'avantage par rapport à la simple boucle pythonique que nous avons précédemment codé pour ajuster notre modèle. Il permet automatiquement le déploiement sur GPU, possède des fonctionnalités de sauvegarde et de checkpointing des modèles, incorpore des astuces de manipulation dynamique du pas d'apprentissage, et permet notamment d'évaluer régulièrement les performances du modèle sur le jeu de test, tout cela pendant l'apprentissage!\n",
        "\n",
        "# 3.1 Préparation des données\n",
        "\n",
        "Commencons donc par instanciez nos objets Dataset. Nous en aurons besoin d'un pour le jeu d'entraînement et d'un pour le jeu de test.\n",
        "\n",
        "Il existe plein de manière d'instancier (puis de modifier) un Dataset HuggingFace, n'hésitez pas à regarder la documentation!\n",
        "\n",
        "En l'occurence, il est tout à fait possible d'instancier un tel objet à partir des dictionnaires data et test_data que nous avons déjà construit, par le biais du constructeur Dataset.from_dict!"
      ],
      "metadata": {
        "id": "_pBXJ-dBTms0"
      }
    },
    {
      "cell_type": "code",
      "source": [
        "hf_train_dataset = ## CODEZ ICI ##\n",
        "hf_test_dataset = ## CODEZ ICI ##"
      ],
      "metadata": {
        "id": "8V5zwkNuX6A3"
      },
      "execution_count": null,
      "outputs": []
    },
    {
      "cell_type": "markdown",
      "source": [
        "Maintenant que nos données sont prêtes, il ne nous reste plus qu'à instancier un modèle, et un objet HuggingFace Trainer. La classe Trainer est construite pour utiliser des modèles de langues (ce que nous verrons plus tard), et n'est donc pas telle quelle utilisable par notre modèle. En revanche, il nous est tout à fait possible de la modifier par héritage pour l'adapter à nos besoins.\n",
        "\n",
        "Tout ce dont nous aurons besoin est d'instancier de nouvelles versions des méthodes compute_loss et prediction_step de cet objet!\n",
        "\n",
        "La méthode compute_loss prend en entrée notre modèle, un dictionnaire de tenseur (dont les clés sont celles définies dans notre objet Dataset, et retourne typiquement un tuple composé de la valeur de la fonction objectif, et des prédictions du modèle.\n",
        "\n",
        "La méthode prediction_step, utilisée pendant l'évaluation, accepte les mêmes entrées que la méthode compute loss, et renvoie un tuple compoq& de la valeur de la fonction objectif, les logits (log-probabilités, la sortie du modèle avant de la passer au softmax) prédits par le modèle, ainsi que les labels, afin de permettre le calcul de métriques.\n",
        "\n",
        "Comme la méthode prediction_step ne s'utilise pas pendant la descente de gradient, il est **très fortement** conseillé de prévenir torch qu'il n'est pas nécessaire de le calculer durant l'exécution de cette méthode. Ceci économise considérablement les ressources en mémoire nécessaire au calcul, et peut se faire très simplement en écrivant toute la logique de la fonction dans un bloc indenté par \"with torch.no_grad()\".\n",
        "\n",
        "Implémentez maintenant ces deux méthodes dans l'objet CustomTrainer, instanciez ci dessous!"
      ],
      "metadata": {
        "id": "dKEhwMSMYDuB"
      }
    },
    {
      "cell_type": "code",
      "source": [
        "class CustomTrainer(Trainer):\n",
        "    def compute_loss(self, model, inputs, return_outputs=False):\n",
        "        labels = inputs.get(\"labels\")\n",
        "        inputs = inputs.get(\"inputs\")\n",
        "\n",
        "        outputs = ## CODEZ ICI ##\n",
        "        loss = ## CODEZ ICI ##\n",
        "\n",
        "        return (loss, outputs) if return_outputs else loss\n",
        "\n",
        "    def prediction_step(self, model, inputs, prediction_loss_only, ignore_keys=None):\n",
        "\n",
        "        labels = inputs.get(\"labels\")\n",
        "        inputs = inputs.get(\"inputs\")\n",
        "\n",
        "        with torch.no_grad():\n",
        "            labels = ## CODEZ ICI ##\n",
        "            logits = ## CODEZ ICI ##\n",
        "            loss = ## CODEZ ICI ##\n",
        "\n",
        "        return (loss, logits, labels)"
      ],
      "metadata": {
        "id": "Nd-5EG8eZz56"
      },
      "execution_count": null,
      "outputs": []
    },
    {
      "cell_type": "markdown",
      "source": [
        "Maintenant que notre classe CustomTrainer est implémentée, il ne nous reste plus qu'à l'instancier!\n",
        "\n",
        "Le constructeur d'un objet Trainer requiert une instance d'un autre objet HuggingFace, un objet TrainingArguments.\n",
        "\n",
        "Cet objet est un conteneur de données, qui permet de régler tout un tas de détails qui influenceront le comportement de votre objet Trainer. N'hésitez surtout pas à consulter la documentation de cet objet, il est particulièrement important de bien la maîtriser pour ne pas faire de bêtise quand on utilise HuggingFace (qui est une librairie qui aide beaucoup, mais qui cache également beaucoup).\n",
        "\n",
        "Voici quelques arguments particulièrement important:\n",
        "\n",
        "\n",
        "*   output_dir: Le seul argument nécessaire à l'instanciation. Le repertoire dans lequel 'le trainer pourra sauvegarder et stocker des données pendant l'ajustement. C'est notamment dans ce répertoire que votre Trainer sauvegardera votre modèle, si vous lui demander de le faire\n",
        "*   learning_rate: Le pas d'apprentissage de votre algorithme de descente (choisi comme AdamW par défaut dans HuggingFace. C'est une variante de la descente de gradient stochastique classique, spécifiquement développée pour contrebalancer les difficultés d'ajustement d'un modèle d'apprentissage profond)\n",
        "*   num_train_epochs: Le nombre de fois que le jeu de données d'entraînement sera parcouru pendant l'ajustement (et donc indirectement le nombre d'itérations de descente)\n",
        "* per_device_train_batch_size: La taille de batch pendant l'entraînement\n",
        "* per_device_eval_batch_size: La taille de batch pendant les évaluations\n",
        "*   evaluation_strategy: Indique au Trainer si vous préférez évaluer votre modèle toutes les epochs, ou après un certain nombre d'itérations de descente\n",
        "*   save_strategy: Indique si et quand sauvegarder votre modèle (on marquera \"no\" dans notre cas, puisque l'on ne cherche pas à sauvegarder nos modèles)"
      ],
      "metadata": {
        "id": "7rPh7XfZaP7v"
      }
    },
    {
      "cell_type": "code",
      "source": [
        "training_args = ## CODEZ ICI ##"
      ],
      "metadata": {
        "id": "z0yr28hZc426"
      },
      "execution_count": null,
      "outputs": []
    },
    {
      "cell_type": "markdown",
      "source": [
        "Dernière étape avant l'ajustement de notre modèle, l'instanciation de notre CustomTrainer!\n",
        "\n",
        "Comme nous l'avons précédemment mentionné, les objets Trainer permettent d'évaluer régulièrement notre modèle pendant l'ajustement. Ceci présente deux avantages:\n",
        "\n",
        "\n",
        "*   On peut monitorer l'ajustement de notre modèle, et vite l'arrêter si ca ne fonctionne pas\n",
        "*   On peut arrêter d'ajuster le modèle quand celui commence à surrajuster. Cette technique est très utilisée en apprentissage profond, et est connue sous le nom d'early stopping (arrêt précoce)\n",
        "\n",
        "De manière à indiquer au Trainer la ou les métriques que nous cherchons à calculer, celui ci accept un argument \"compute_metrics\", comme un callable (une fonction python), qui prend en entrée un objet HuggingFace EvalPredictions (un simple conteneur de données avec au moins deux attributs, predictions et label_ids, que l'on utilisera pour calculer nos métriques), et retourne un dictionnaire contenant notre (ou nos) métriques.\n",
        "\n",
        "Comme la semaine dernière, nous nous intéressons à l'accuracy du modèle, c'est à dire son pourcentage de bonnes réponses.\n",
        "\n",
        "Pour cette fois, je vous ai implémenté la fonction de calcul de métrique. Il ne vous reste plus qu'à instancier votre trainer, puis à ajuster le modèle en appelant la méthode train() du votre Trainer!\n",
        "\n"
      ],
      "metadata": {
        "id": "DZ-vK_VSdAun"
      }
    },
    {
      "cell_type": "code",
      "source": [
        "def compute_metric_fn(eval_preds):\n",
        "  predictions = eval_preds.predictions\n",
        "  labels = p.label_ids\n",
        "\n",
        "  accuracy = (predictions.argmax(-1) == labels).mean()\n",
        "\n",
        "  return {\"accuracy\": accuracy}\n",
        "\n",
        "trainer = ## CODEZ ICI ##\n",
        "\n",
        "trainer.train()"
      ],
      "metadata": {
        "id": "NjOXmJx3ekWa"
      },
      "execution_count": null,
      "outputs": []
    },
    {
      "cell_type": "markdown",
      "source": [
        "Comparez les performances des modèles que vous avez ajusté avec HuggingFace et directement avec Pytorch. Que constatez vous?"
      ],
      "metadata": {
        "id": "KfZGjVY5e8FF"
      }
    },
    {
      "cell_type": "markdown",
      "source": [
        "(Ecrivez votre réponse dans cette cellule!)"
      ],
      "metadata": {
        "id": "VkqNdnySfEAP"
      }
    }
  ]
}