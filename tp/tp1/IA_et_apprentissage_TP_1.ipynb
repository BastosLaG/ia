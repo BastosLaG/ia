{
  "nbformat": 4,
  "nbformat_minor": 0,
  "metadata": {
    "colab": {
      "provenance": []
    },
    "kernelspec": {
      "name": "python3",
      "display_name": "Python 3"
    },
    "language_info": {
      "name": "python"
    }
  },
  "cells": [
    {
      "cell_type": "markdown",
      "source": [
        "Bienvenue dans ce premier TP d’apprentissage automatique !\n",
        "\n",
        "En tant qu’étudiant.e.s, la question “Combien d’heures devrais je réviser pour obtenir une bonne note à mon cours d’IA et apprentissage?” peut rapidement nous tarauder, si ce n’est être tout simplement source d’anxiété.\n",
        "\n",
        "Aujourd’hui, nous utiliserons l’apprentissage automatique pour tenter de répondre à cette question et tous nous rassurer. Pour ce faire, nous allons développer un modèle de régression linéaire univariée qui aura pour but de prédire la note qu'un.e étudiant.e peut espérer obtenir en fonction du nombre d'heures qu’iel aura consacrées à la révision.\n",
        "\n",
        "Comme nous l’avons vu précédemment, la première étape nécessaire à l’élaboration de pareil modèle consiste en la récolte et création d’un jeu de données. Pour ce faire, nous avons recueilli l’année dernière des données sur 70 étudiants de la L3 Informatique et vidéoludique de Paris 8. Chaque étudiant a été invité à fournir deux informations cruciales :\n",
        "Le nombre d'heures qu'iel a consacrées à la révision pour le partiel.\n",
        "La note qu'iel a obtenue à ce partiel.\n",
        "Nous avons minutieusement enregistré ces informations et avons créé un ensemble de données représentatif pour notre analyse.\n",
        "\n"
      ],
      "metadata": {
        "id": "jyx68KnJEMMO"
      }
    },
    {
      "cell_type": "markdown",
      "source": [
        "**Objectif du TP**\n",
        "\n",
        "Votre mission pour ce TP est de développer un modèle de régression linéaire univariée qui permettra de prédire la note potentielle d'un.e étudiant.e en fonction du temps de révision qu'iel consacrera pour le partiel. Vous allez apprendre à utiliser ces données pour construire le modèle, le former et évaluer ses performances.\n",
        "\n",
        "Commencez par executez la case suivante, qui importe toutes les librairies nécessaire à l'execution du TP."
      ],
      "metadata": {
        "id": "RL5Lv4HFEmll"
      }
    },
    {
      "cell_type": "code",
      "source": [
        "import torch\n",
        "import sklearn\n",
        "import numpy as np\n",
        "import pandas as pd\n",
        "from matplotlib import pyplot as plt"
      ],
      "metadata": {
        "id": "Lws3iPHNE3_X"
      },
      "execution_count": null,
      "outputs": []
    },
    {
      "cell_type": "markdown",
      "source": [
        "Certaines de ces librairies vous seront peut-être familières:\n",
        "\n",
        "*   Numpy: Librairie de calcul vectoriel\n",
        "*   Pandas: Librairie de manipulation de tables\n",
        "*   Matplotlib/Pyplot: Librairie de visualisation de données\n",
        "\n",
        "Certaines, en revanches, sont potentiellement nouvelles pour vous:\n",
        "*  PyTorch (torch): Une des librairies de deep learning les plus usitées dans le monde actuellement.\n",
        "*  Scikit-learn (sklearn): Librairie standard de machine learning classique\n",
        "\n",
        "\n"
      ],
      "metadata": {
        "id": "OuKXt8gmHSnS"
      }
    },
    {
      "cell_type": "markdown",
      "source": [
        "#  1. Chargement et visualisation des données\n",
        "\n",
        "Maintenant que notre environnement de travail est prêt, nous allons pouvoir charger notre jeu de données et regarder un peu à quoi il ressemble. Uploadez le fichier \"train.csv\" fourni avec ce notebook dans vos fichiers, et chargez le dans le jupyter avec la fonction pandas pd.read_csv"
      ],
      "metadata": {
        "id": "t-21mIT6LXjL"
      }
    },
    {
      "cell_type": "code",
      "source": [
        "train_df = ### CODEZ ICI ###"
      ],
      "metadata": {
        "id": "HDPeanleMdx_"
      },
      "execution_count": null,
      "outputs": []
    },
    {
      "cell_type": "markdown",
      "source": [
        "Affichez une description de votre jeu de données ici en utilisant la méthode .describe() associée à votre dataframe pandas"
      ],
      "metadata": {
        "id": "NC_OrUB4NkfG"
      }
    },
    {
      "cell_type": "code",
      "source": [
        "### CODEZ ICI ###"
      ],
      "metadata": {
        "id": "Ldsw92hENlYn"
      },
      "execution_count": null,
      "outputs": []
    },
    {
      "cell_type": "markdown",
      "source": [
        "En utilisant la librairie pyplot, visualisez la distribution des variables prédictives et à expliquer de votre jeu de données, ainsi que leur relation.\n",
        "\n",
        "Vous pourrez pour ce faire utiliser les fonctions pyplot plt.hist et plt.scatter"
      ],
      "metadata": {
        "id": "NF4VPS0_NyGO"
      }
    },
    {
      "cell_type": "code",
      "source": [
        "### CODEZ ICI ###"
      ],
      "metadata": {
        "id": "iGc_AOSuORpW"
      },
      "execution_count": null,
      "outputs": []
    },
    {
      "cell_type": "markdown",
      "source": [
        "Décrivez ici qualitativement votre jeu de données.\n",
        "\n",
        "Un modèle de régression linéaire semble t'il indiqué ici pour implémenter un algorithme capable de déterminer la note qu'un étudiant aura au partiel à partir de son temps de révision?"
      ],
      "metadata": {
        "id": "8FfL9RNPOZwb"
      }
    },
    {
      "cell_type": "markdown",
      "source": [
        "(Ecrivez votre réponse dans cette case)"
      ],
      "metadata": {
        "id": "cxeWKskDOuop"
      }
    },
    {
      "cell_type": "markdown",
      "source": [
        "# 2. Création et ajustement d'un modèle de régression linéaire avec Pytorch.\n",
        "\n",
        "Maintenant que l'on connait mieux notre jeu de données, il est grand temps d'implémenter et d'ajuster notre modèle. Nous allons pour cela utiliser PyTorch, une des librairies actuellement les plus utilisées pour implémenter des modèles d'apprentissage profond (mais qui permet tout autant d'ajuster des modèles linéaires).\n",
        "\n",
        "# 2.1. Premiers pas avec Torch et implémentation du modèle\n",
        "\n",
        "Avant d'implémenter notre modèle il nous sera utile de nous familiariser avec la façon dont on effectue des calculs avec PyTorch.\n",
        "\n",
        "Pytorch encode les entrées, la sortie et les paramètres d'un modèle dans un objet appelé Tensor. Un Tensor peut être assimilé conceptuellement à un array Numpy, mais dispose de méthodes supplémentaires (permettant notamment à PyTorch de calculer automatiquement le gradient de notre fonction objectif).\n",
        "\n",
        "On peut convertir un array numpy (ou une série pandas) simplement en appelant torch.tensor() sur l'objet que l'on souhaite convertir en Tensor.\n",
        "\n",
        "On peut de la même manière convertir un Tensor en numpy array en appelant sa méthode .numpy()\n"
      ],
      "metadata": {
        "id": "1KtkObEpPVAl"
      }
    },
    {
      "cell_type": "code",
      "source": [
        "# Convertit le nombre d'heures étudiées de chaque étudiant en Tensor\n",
        "X = torch.tensor(train_df.num_heure)\n",
        "y = torch.tensor(train_df.note)\n",
        "\n",
        "print(\"A quoi ressemble un Tensor?\")\n",
        "print(X)\n",
        "\n",
        "print(\"A quoi ressemble le même Tensor transformé en array numpy?\")\n",
        "print(X.numpy())"
      ],
      "metadata": {
        "id": "mcKJsGb6SobC"
      },
      "execution_count": null,
      "outputs": []
    },
    {
      "cell_type": "markdown",
      "source": [
        "PyTorch dispose également d'un autre objet pour encoder des données, appelé Parameter (torch.nn.Parameter).\n",
        "\n",
        "Comme son nom l'indique, cet objet sera utilisé pour définir les paramètres de notre modèle. Cet objet a globalement le même comportement qu'un Tensor, à la différence près que PyTorch peut reconnaitre automatiquement les instances de cet objet comme des paramètres, et les modifier pendant la descente de gradient.\n",
        "\n",
        "On peut instancier directement un objet Parameter à partir d'une instance de Tensor en appelant simplement torch.nn.Parameter(un objet Tensor)"
      ],
      "metadata": {
        "id": "hN6PoEMYYe0S"
      }
    },
    {
      "cell_type": "code",
      "source": [
        "print(\"A quoi ressemble un objet Parameter?\")\n",
        "print(torch.nn.Parameter(X))"
      ],
      "metadata": {
        "id": "oOzArtqoZTxQ"
      },
      "execution_count": null,
      "outputs": []
    },
    {
      "cell_type": "markdown",
      "source": [
        "On constate en executant la cellule précédente qu'une instance de Parameter dispose d'un attribut booléen \"requires_grad\". Cet attribut permet de signaler à PyTorch si cet paramètre doit être ajusté pendant la descent de gradient."
      ],
      "metadata": {
        "id": "X8hOMxVhZkE6"
      }
    },
    {
      "cell_type": "markdown",
      "source": [
        "Maintenant que nous sommes un peu plus familier avec les objets que PyTorch utilise pour manipuler des données, nous pouvons passer à l'implémentation du modèle.\n",
        "\n",
        "L'implémentation d'un modèle en pytorch se fait systématiquement par l'implémentation d'un objet héritant d'un objet de pytorch, un Module (torch.nn.Module).\n",
        "\n",
        "Implémenter notre modèle revient donc à créer un objet héritant de Module dont on implémentera deux méthodes:\n",
        "\n",
        "*   La méthode __init__ où l'on définiera les paramètres de notre modèle en tant qu'attributs\n",
        "*   Une méthode appelée forward, qui admet un argument, input (un tensor Torch) et qui retourne également un Tensor. C'est dans cette méthode que nous implémentererons la logique de notre couche, c'est à dire la transformation que l'on désire que notre modèle applique au Tensor input\n",
        "\n",
        "Une fois instancié, un objet Module se comporte comme une fonction python, qu'on peut appeler avec un Tensor, et qui retourne en sortie le Tensor résultant de la transformation que nous avons défini dans la méthode forward.\n",
        "\n",
        "Pour rappel, un modèle de régression linéaire cherche à prédire la variable cible y à partir de la variable d'entrée x en appliquant à cette dernière la transformation suivante:\n",
        "\n",
        "$$ y = coef * x + ordonnée $$"
      ],
      "metadata": {
        "id": "aijz1f_oSV1s"
      }
    },
    {
      "cell_type": "code",
      "source": [
        "class LinearRegression(torch.nn.Module):\n",
        "    def __init__(self):\n",
        "        \"\"\"\n",
        "        La méthode __init__ est utilisée pour définir tous les paramètres du\n",
        "        modèle (les coefficients que l'on va pouvoir faire varier pendant\n",
        "        la descente de gradient)\n",
        "        \"\"\"\n",
        "        super(LinearRegression, self).__init__()\n",
        "        # Définissez ici le coefficient directeur de notre modèle, comme une\n",
        "        # instance de Parameter initialisé par un Tensor de valeur [1]\n",
        "        self.coefficient = # CODEZ ICI #\n",
        "        # Déginissez ici l'ordonnée à l'origine du modèle, comme une\n",
        "        # instance de Parameter initialisé par un Tensor de valeur [0]\n",
        "        self.ordonnee = # CODEZ ICI #\n",
        "\n",
        "    def forward(self, input):\n",
        "        \"\"\"\n",
        "        La méthode forwad est utilisée pour définir la logique de notre modèle.\n",
        "        c'est à dire la transformation que l'on veut appliquer à l'entrée input\n",
        "        avec nos paramètres self.coefficient et self.ordonnee\n",
        "        \"\"\"\n",
        "        output = # CODEZ ICI #\n",
        "        return output"
      ],
      "metadata": {
        "id": "-Odf3E1Bavyk"
      },
      "execution_count": null,
      "outputs": []
    },
    {
      "cell_type": "markdown",
      "source": [
        "On peut maintenant créer une instance de notre modèle de régression linéaire comme suit:"
      ],
      "metadata": {
        "id": "yxO64XL8cluw"
      }
    },
    {
      "cell_type": "code",
      "source": [
        "model = LinearRegression()"
      ],
      "metadata": {
        "id": "XIdDiQpLct-b"
      },
      "execution_count": null,
      "outputs": []
    },
    {
      "cell_type": "markdown",
      "source": [
        "Comme indiqué précédemment, une instance de Module se comporte comme une fonction python, à laquelle on peut fournir comme entrée nos variables prédictives comme suit:"
      ],
      "metadata": {
        "id": "UqaKxKwoc0DZ"
      }
    },
    {
      "cell_type": "code",
      "source": [
        "y_pred = model(X)"
      ],
      "metadata": {
        "id": "vZRNynU4cygY"
      },
      "execution_count": null,
      "outputs": []
    },
    {
      "cell_type": "markdown",
      "source": [
        "Calculez les performances du modèle en utilisant la fonction sklearn mean_squared_error, puis, à l'aide de la fonction plt.scatter, visualisez la relation existente entre X et y_pred."
      ],
      "metadata": {
        "id": "GLNq43aHdYhZ"
      }
    },
    {
      "cell_type": "code",
      "source": [
        "from sklearn.metrics import mean_squared_error\n",
        "\n",
        "mse = # CODEZ ICI #\n",
        "print(mse)"
      ],
      "metadata": {
        "id": "ZAzx1z7AdajR"
      },
      "execution_count": null,
      "outputs": []
    },
    {
      "cell_type": "markdown",
      "source": [
        "Que pensez vous des performances du modèle jusqu'ici?"
      ],
      "metadata": {
        "id": "PlyHnpGVdfb6"
      }
    },
    {
      "cell_type": "markdown",
      "source": [
        "(Ecrivez votre réponse dans cette case)"
      ],
      "metadata": {
        "id": "vpEFYI-seDuA"
      }
    },
    {
      "cell_type": "markdown",
      "source": [
        "Evidemment, notre modèle n'a pas encore été ajusté. Il n'y a donc aucune raison pour qu'il soit capable de prédire correctement la note qu'un.e étudiant.e peut espérer recevoir au partiel à partir du nombre d'heure d'heure qu'iel a réviser.\n",
        "\n",
        "Il va donc nous falloir faire implémenter une fonction qui nous permettra non seulement d'instancier un modèle, mais également de l'ajuster!\n",
        "\n",
        "# 2.1. Ajustement du modèle\n",
        "\n",
        "Comme vu en cours, l'implémentation d'un modèle d'apprentissage machine dépend de la définition de 4 entités distinctes:\n",
        "\n",
        "\n",
        "*   Un jeu de données constitué d'exemples de paires variable prédictive - variable à prédire\n",
        "*   Un modèle, définit comme une fonction paramétrique qui prend comme argument la variable prédictive et essaie de rendre en sortie une approximation de la variable à prédire\n",
        "*   Une fonction objectif (ou fonction coût) qui prend comme argument les paramètre du modèle et rend en sortie un scalaire indiquant à quel point notre modèle \"prédit bien\" la variable à prédire à partir de la variable prédictive\n",
        "*   Un algorithme d'optimisation pour trouver le minimum de cette fonction objectif (et ainsi trouver notre modèle comme l'argument de ce minimum)\n",
        "\n",
        "Le jeu de données étant collecté et le modèle déjà implémenté, il ne nous reste plus qu'à définir notre fonction objectif, et notre algorithme d'optimisation!\n",
        "\n",
        "PyTorch propose tout une variété d'algorithme d'optimisation et de fonction objectif, en fonction des besoins et des envies. Nous nous intérésserons dans ce TP aux deux objets suivant:\n",
        "\n",
        "\n",
        "*   torch.nn.MSE comme fonction objectif (MSE pour Mean Squared Error)\n",
        "*   torch.nn.SGD comme algorithme de descente de gradient (SGD pour Stochastic Gradient Descent)\n",
        "\n",
        "Je vous invite vivement à regarder la documentation de PyTorch ([documentation de PyTorch](https://pytorch.org/docs/stable/index.html) afin de découvrir le comportement de ces objets, et comment les utiliser pour ajuster un modèle par descente de gradient.\n",
        "\n",
        "Une fois familier avec ces deux objets, complétez l'implémentation de la fonction train_model définie dans la cellule suivante!\n"
      ],
      "metadata": {
        "id": "YYrweV8FeMEV"
      }
    },
    {
      "cell_type": "code",
      "source": [
        "def train_model(X, y, num_iter=10, learning_rate=0.01):\n",
        "\n",
        "    # On instancie notre modèle\n",
        "    model = # CODEZ ICI #\n",
        "\n",
        "    # On définit notre fonction perte\n",
        "    objectif = # CODEZ ICI #\n",
        "\n",
        "    # On définit notre algorithme d'optimisation (SGD: Stochastic Gradient Descent)\n",
        "    optimizer = # CODEZ ICI #\n",
        "\n",
        "    trajectory = []\n",
        "\n",
        "    for _ in range(num_iter):\n",
        "        inputs = torch.tensor(X)\n",
        "        targets = torch.tensor(y)\n",
        "\n",
        "        # Calculez la valeur de la fonction objectif\n",
        "        outputs = model(inputs)\n",
        "        loss = objectif(outputs, targets)\n",
        "\n",
        "        # Calcule le gradient\n",
        "        optimizer.zero_grad()\n",
        "        loss.backward()\n",
        "\n",
        "        # Applique une itération de descente de gradient aux paramètres du modèle\n",
        "        optimizer.step()\n",
        "\n",
        "        # Conserve la valeur des paramètres du modèles pour visualiser son évolution\n",
        "        trajectory.append(np.concatenate(\n",
        "            [\n",
        "                model.coefficient.detach().flatten().numpy(),\n",
        "                model.ordonnee.detach().flatten().numpy(),\n",
        "                loss.detach().flatten().numpy()\n",
        "            ]\n",
        "        ))\n",
        "\n",
        "    return model, np.stack(trajectory, axis=0)"
      ],
      "metadata": {
        "id": "M-slPdkFeODL"
      },
      "execution_count": null,
      "outputs": []
    },
    {
      "cell_type": "markdown",
      "source": [
        "Maintenant que la fonction train_model est implémentée, nous pouvons l'appeler sur notre jeu de données et obtenir un modèle ajusté!\n",
        "\n",
        "Pour évaluer ses performances, il nous suffit simplement par la suite d'obtenir les prédictions du modèle en lui donnant en entrée nos variables explicatives, puis de calculer l'erreur quadratique, via PyTorch ou sklearn, au choix.\n",
        "\n",
        "Ajuster et évaluer les performances de votre modèle pour les valeurs suivantes de l'argument learning rate: [1, 0.01, 0.001]"
      ],
      "metadata": {
        "id": "3KYZWgrFuoE-"
      }
    },
    {
      "cell_type": "code",
      "source": [
        "for learning_rate in [1., .1, .001]:\n",
        "  predictions = # CODEZ ICI#\n",
        "  mse = # CODEZ ICI #\n",
        "  print(\"Learning_rate=%.3f : Erreur quadratique=%.3f\" % (learning_rate, mse))"
      ],
      "metadata": {
        "id": "lHSA-kghunMD"
      },
      "execution_count": null,
      "outputs": []
    },
    {
      "cell_type": "markdown",
      "source": [
        "Que constatez vous?"
      ],
      "metadata": {
        "id": "R4iowxjMwMDt"
      }
    },
    {
      "cell_type": "markdown",
      "source": [
        "(Ecrivez votre réponse dans cette cellule)"
      ],
      "metadata": {
        "id": "312LV7PgwVWL"
      }
    },
    {
      "cell_type": "markdown",
      "source": [
        "Afin de mieux comprendre ce qui peut bien se passer, je vous ai implémenté une fonction \"plot_cost_and_trajectory\" qui nous permettra de visualiser l'évolution du modèle que vous allez implémenté pendant son ajustement."
      ],
      "metadata": {
        "id": "aq8M4nZHLSg6"
      }
    },
    {
      "cell_type": "code",
      "source": [
        "def plot_cost_and_trajectory(X, y, learning_rate=0.01, num_points=200):\n",
        "\n",
        "    def build_cost_function_mesh(slope_bound, intercept_bound, num_points=200):\n",
        "        # Generate a meshgrid of slope and intercept values\n",
        "        slope_range = np.linspace(\n",
        "            slope_bound[0],\n",
        "            slope_bound[1] + (slope_bound[1] - slope_bound[0]),\n",
        "            num_points\n",
        "        )\n",
        "        intercept_range = np.linspace(\n",
        "            intercept_bound[0],\n",
        "            2 * intercept_bound[1] - intercept_bound[0],\n",
        "            num_points\n",
        "        )\n",
        "        slope_values, intercept_values = np.meshgrid(slope_range, intercept_range)\n",
        "\n",
        "        # Calculate mean square error for each combination of slope and intercept\n",
        "        mse_values = np.zeros_like(slope_values)\n",
        "        for i in range(num_points):\n",
        "            for j in range(num_points):\n",
        "                slope = slope_values[i, j]\n",
        "                intercept = intercept_values[i, j]\n",
        "                y_pred = slope * X + intercept\n",
        "                mse_values[i, j] = np.mean((y_pred - y) ** 2)\n",
        "\n",
        "        return slope_values, intercept_values, mse_values\n",
        "\n",
        "    trajectory = train_model(X, y, learning_rate=learning_rate)\n",
        "\n",
        "    trajectory = np.concatenate([trajectory, np.arange(len(trajectory)).reshape(-1, 1)], axis=-1)\n",
        "\n",
        "    slope_values, intercept_values, mse_values = build_cost_function_mesh(\n",
        "        slope_bound=(trajectory[:, 0].min(), trajectory[:, 0].max()),\n",
        "        intercept_bound=(trajectory[:, 1].min(), trajectory[:, 1].max()),\n",
        "    )\n",
        "\n",
        "    # Plot the 3D surface\n",
        "    fig = plt.figure(figsize=(10, 8))\n",
        "    ax = fig.add_subplot(111, projection='3d')\n",
        "    ax.plot_surface(slope_values, intercept_values, mse_values, cmap='viridis', alpha=0.8)\n",
        "\n",
        "    sc = ax.scatter(trajectory[:, 0], trajectory[:, 1], trajectory[:, 2], c=trajectory[:, 3], cmap='plasma', marker='o',\n",
        "                    label='Gradient Descent')\n",
        "\n",
        "    # Plot lines connecting consecutive dots\n",
        "    for i in range(len(trajectory) - 1):\n",
        "        ax.plot([trajectory[i, 0], trajectory[i + 1, 0]],\n",
        "                [trajectory[i, 1], trajectory[i + 1, 1]],\n",
        "                [trajectory[i, 2], trajectory[i + 1, 2]], color='blue', linestyle='dashed')\n",
        "\n",
        "    ax.set_xlabel('Coefficient directeur')\n",
        "    ax.set_ylabel(\"Ordonnée à l'origine\")\n",
        "    ax.set_zlabel('Erreur quadratique')\n",
        "    ax.set_title(\"Visualisation de l'évolution du modèle pour learning_rate=%.3f\" % learning_rate)\n",
        "    plt.show()\n",
        "\n",
        "    return None\n"
      ],
      "metadata": {
        "id": "CKd2U6MKISFg"
      },
      "execution_count": null,
      "outputs": []
    },
    {
      "cell_type": "markdown",
      "source": [
        "Executez les trois prochaines cellules pour visualiser l'évolution du modèle au cours de la descent de gradient pour les différentes valeurs de learning_rate.\n"
      ],
      "metadata": {
        "id": "IsAYhA6VJzf9"
      }
    },
    {
      "cell_type": "code",
      "source": [
        "plot_cost_and_trajectory(X, y, learning_rate=1.)"
      ],
      "metadata": {
        "id": "ufnyplsZxmmb"
      },
      "execution_count": null,
      "outputs": []
    },
    {
      "cell_type": "code",
      "source": [
        "plot_cost_and_trajectory(X, y, learning_rate=.1)"
      ],
      "metadata": {
        "id": "Sk-tvlNOxmsJ"
      },
      "execution_count": null,
      "outputs": []
    },
    {
      "cell_type": "code",
      "source": [
        "plot_cost_and_trajectory(X, y, learning_rate=.01)"
      ],
      "metadata": {
        "id": "hdHsEOJqxmxi"
      },
      "execution_count": null,
      "outputs": []
    },
    {
      "cell_type": "markdown",
      "source": [
        "Que constatez vous?"
      ],
      "metadata": {
        "id": "IXMXAZgGx7B3"
      }
    },
    {
      "cell_type": "markdown",
      "source": [
        "(Ecrivez votre réponse dans cette cellule)"
      ],
      "metadata": {
        "id": "dmLAVVs1yA9C"
      }
    },
    {
      "cell_type": "markdown",
      "source": [
        "Cette petite expérience nous montre clairement l'importance du choix de valeur pour la variable learning_rate. Trop faible, et l'algorithme de descent approche trop lentement du minimum de la fonction objectifr. Trop élevée, et la descente diverge tout simplement, jusqu'à atteindre des valeurs de fonction objectif stratosphériques.\n",
        "\n",
        "# Implémentation du modèle avec scikit-learn\n",
        "\n",
        "Félicitation! Vous venez d'implémenter votre premier modèle de machine learning avec Pytorch. Comme vous avez pu le constater par vous même, il est nécessaire pour y parvenir de coordonner pas mal d'objet un peu capricieux entre eux.\n",
        "\n",
        "En revanche, une fois que vous aurez parfaitement intégré ce mode de fonctionnement, implémentez un modèle d'apprentissage profond moderne vous semblera un jeu d'enfant!\n",
        "\n",
        "Pour ce qui est d'un modèle de régression linéaire en revanche, c'est un peu se complexifier la vie pour rien. En effet, on peut parvenir au même résultats en quelques lignes de codes avec la librairie scikit-learn, la librairie la plus connue pour faire du machine learning dit \"classique\" (c'est à dire \"non profond\" en gros).\n",
        "\n",
        "Voyez plutôt:"
      ],
      "metadata": {
        "id": "K99eyKm6yFL6"
      }
    },
    {
      "cell_type": "code",
      "source": [
        "from sklearn.linear_model import LinearRegression\n",
        "from sklearn.metrics import mean_squared_error\n",
        "\n",
        "X = X.numpy().reshape([-1, 1])\n",
        "y = y.numpy().reshape([-1, 1])\n",
        "\n",
        "model = LinearRegression()\n",
        "model.fit(X, y)\n",
        "y_preds = model.predict(X)\n",
        "mse = mean_squared_error(y_preds, y)\n",
        "print(\"Erreur quadratique du modèle: %.3f\" % mse)"
      ],
      "metadata": {
        "id": "sh_72reAzGLq"
      },
      "execution_count": null,
      "outputs": []
    },
    {
      "cell_type": "markdown",
      "source": [
        "Clairement, il est bien plus pratique d'utiliser scikit learn pour ajuster des modèles simples comme les modèles de régression linéaire.\n",
        "\n",
        "En revanche, notre implémentation avec pyTorch nous a permis de vraiment comprendre toute l'implémentation nécessaire à l'ajustement d'un modèle de régression. De plus, la complexité additionnelle de l'implémentation avec PyTorch devient absolument nécessaire en apprentissage profond. Donc autant se familiariser avec dès le début!\n",
        "\n",
        "Maintenant que nous sommes capables d'ajuster des modèles très simplement avec scikit-learn, nous pouvons en revanche faire plein d'expériences!\n",
        "\n",
        "On pourrait par exemple se poser demander comment impacte la taille de notre jeu de données sur les performances du modèle.\n",
        "\n",
        "Pour ce faire, ajustez un modèle (que vous appelerez model_2) sur les 15 premières observations du jeu de données, puis un autre (que vous appelerez model_3) sur les 5 premières observations du jeu de données.\n",
        "\n",
        "Une fois les deux modèles ajustés, évaluez leurs performances (leur erreur quadratique) deux fois:\n",
        "*   Sur les observations que vous avez utilisé pour ajuster les deux modèles (donc les 15 premières pour model_2 et les 5 premières pour model_3)\n",
        "*   Sur les observations que vous n'avez pas utilisé pour ajuster les deux modèles (donc les 55 dernières pour model_2 et les 65 dernières pour model_3)"
      ],
      "metadata": {
        "id": "UZ0fJbUQ1DYM"
      }
    },
    {
      "cell_type": "code",
      "source": [
        "# CODEZ ICI #"
      ],
      "metadata": {
        "id": "1CTq5pYJ1Car"
      },
      "execution_count": null,
      "outputs": []
    },
    {
      "cell_type": "markdown",
      "source": [
        "Que constatez vous?"
      ],
      "metadata": {
        "id": "z7TgJksF7KLG"
      }
    },
    {
      "cell_type": "markdown",
      "source": [
        "(Ecrivez votre réponse dans cette cellule)"
      ],
      "metadata": {
        "id": "c7wN29_V7L0N"
      }
    }
  ]
}