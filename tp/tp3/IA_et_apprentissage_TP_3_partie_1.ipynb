{
  "nbformat": 4,
  "nbformat_minor": 0,
  "metadata": {
    "colab": {
      "provenance": []
    },
    "kernelspec": {
      "name": "python3",
      "display_name": "Python 3"
    },
    "language_info": {
      "name": "python"
    }
  },
  "cells": [
    {
      "cell_type": "markdown",
      "source": [
        "Bienvenue dans ce troisième TP d’apprentissage automatique !\n",
        "\n",
        "La semaine dernière, nous avons utilisé l'apprentissage automatique pour essayer de répondre à la question \"Combien d'heures devrais je réviser pour valider mon cours d'IA et apprentissage?\".\n",
        "\n",
        "Nous avions pour ce faire développé un modèle de régression logistique univarié, dont les performances étaient plutôt satisfaisante. Il est en revanche un peu audacieux de penser que seul le temps passé à réviser décide de la note qu'un.e étudiant.e peut obtenir à un examen. En effet, cette grandeur est clairement multifactorielle.\n",
        "\n",
        "Pour améliorer les performances des modèles que nous avons ajusté jusqu'ici, nous sommes retourné voir les étudiant.e.s qui ont servi à constituer notre jeu de données, et nous leur avons demandé de renseigner le nombre d'heures passées à travailler le cours chaque semaine pendant le semestre. Il semble raisonnable de penser que cette information devrait nous permettre d'affiner nos prédictions.\n",
        "\n",
        "** Objectif dy TP **\n",
        "\n",
        "Pour prendre en compte ces nouvelles informations dans nos précédents, nous allons développer plusieurs modèles:\n",
        "\n",
        "*   Un modèle de régression linéaire multivarié afin de prédire la note qu'un.e étudiant.e peut espérer avoir\n",
        "*   Un modèle de régression logistique multivarié afin d'estimer la probabilité qu'un.e étudiant.e valide le cours\n",
        "*   Un modèle de régression logistique multinomiale afin d'estimer la probabilité que l'étudiant.e ne valide pas, valide avec moins de 15, ou avec plus de 15\n",
        "\n",
        "Commencez par exécutez la case suivante, qui importe toutes les librairies nécessaire à l'execution du TP."
      ],
      "metadata": {
        "id": "PeAw8RoPLI_d"
      }
    },
    {
      "cell_type": "code",
      "source": [
        "import torch\n",
        "import sklearn\n",
        "import numpy as np\n",
        "import pandas as pd\n",
        "from matplotlib import pyplot as plt"
      ],
      "metadata": {
        "id": "89SHF1XbRcAr"
      },
      "execution_count": null,
      "outputs": []
    },
    {
      "cell_type": "markdown",
      "source": [
        "#  1. Chargement et visualisation des données\n",
        "\n",
        "Maintenant que notre environnement de travail est prêt, nous allons pouvoir charger notre jeu de données et regarder un peu à quoi il ressemble. Uploadez le fichier \"train.csv\" fourni avec ce notebook dans vos fichiers, et chargez le dans le jupyter avec la fonction pandas pd.read_csv"
      ],
      "metadata": {
        "id": "t-21mIT6LXjL"
      }
    },
    {
      "cell_type": "code",
      "source": [
        "train_df = ## CODEZ ICI ##"
      ],
      "metadata": {
        "id": "HDPeanleMdx_"
      },
      "execution_count": null,
      "outputs": []
    },
    {
      "cell_type": "markdown",
      "source": [
        "Affichez une description de votre jeu de données ici en utilisant la méthode .describe() associée à votre dataframe pandas"
      ],
      "metadata": {
        "id": "NC_OrUB4NkfG"
      }
    },
    {
      "cell_type": "code",
      "source": [
        "## CODEZ ICI ##"
      ],
      "metadata": {
        "id": "2QI6xlx4pGZz"
      },
      "execution_count": null,
      "outputs": []
    },
    {
      "cell_type": "markdown",
      "source": [
        "En utilisant la librairie pyplot, visualisez la distribution des variables prédictives et à expliquer de votre jeu de données, ainsi que leur relation.\n",
        "\n",
        "Vous pourrez pour ce faire utiliser les fonctions pyplot plt.hist et plt.scatter"
      ],
      "metadata": {
        "id": "NF4VPS0_NyGO"
      }
    },
    {
      "cell_type": "code",
      "source": [
        "## CODEZ ICI ##"
      ],
      "metadata": {
        "id": "DFXYD4m8pM-o"
      },
      "execution_count": null,
      "outputs": []
    },
    {
      "cell_type": "markdown",
      "source": [
        "Décrivez ici qualitativement votre jeu de données.\n",
        "\n",
        "Un modèle de régression linéaire multivariée semble t'il indiqué ici pour implémenter un algorithme capable de déterminer si un.e étudiant aura validé son partiel à partir de son temps de révision?"
      ],
      "metadata": {
        "id": "8FfL9RNPOZwb"
      }
    },
    {
      "cell_type": "markdown",
      "source": [
        "(Ecrivez votre réponse dans cette case)"
      ],
      "metadata": {
        "id": "cxeWKskDOuop"
      }
    },
    {
      "cell_type": "markdown",
      "source": [
        "# 2. Modèle de régression linéaire multivarié\n",
        "\n",
        "Maintenant que l'on connait mieux notre jeu de données, il est temps d'implémenter et d'ajuster notre modèle. Dans un premier temps, nous utiliserons de nouveau Pytorch.\n",
        "\n",
        "# 2.1. Implémentation du modèle\n",
        "\n",
        "Rappelez vous, afin d'implémenter un modèle en Pytorch, il est nécessaire d'instancier un objet qui hérite de la classe torch.nn.Module. Jusqu'ici, nous avions instancié tous nos modèles à la main. Quand bien même cela nous a permis de comprendre en profondeur le fonctionnement de PyTorch, ca n'est clairement pas l'approche la plus efficace.\n",
        "\n",
        "En effet, PyTorch dispose déjà d'une implémentation d'une classe permettant d'instancier n'importe quel modèle linéaire, l'objet torch.nn.Linear. Cet objet applique une transformation linéaire paramétrique à ses entrées, de dimensionalité définie lors de l'instanciation de l'objet.\n",
        "\n",
        "Le constructeur de cet objet requiert de renseigner deux informations:\n",
        "\n",
        "\n",
        "*   in_features, la dimensionalité de l'entrée de la couche, c'est à dire dans notre cas le nombre de variables à expliquer\n",
        "*   out_features, la dimensionalité de la sortie de la couche, c'est à dire dans notre cas le nombre de variable que nous cherchons à prédire\n",
        "\n",
        "\n",
        "\n"
      ],
      "metadata": {
        "id": "1KtkObEpPVAl"
      }
    },
    {
      "cell_type": "code",
      "source": [
        "model_lin = ## CODEZ ICI ##"
      ],
      "metadata": {
        "id": "-Odf3E1Bavyk"
      },
      "execution_count": null,
      "outputs": []
    },
    {
      "cell_type": "markdown",
      "source": [
        "# 2.2. Ajustement du modèle\n",
        "\n",
        "Comme d'habitude, nous allons maintenant implémenter la fonction qui nous permettra d'ajuster notre modèle. Nous aurons notamment besoin des deux objets suivant\n",
        "\n",
        "*   torch.nn.MSE comme fonction objectif (MSE pour Mean Squared Error)\n",
        "*   torch.optim.SGD comme algorithme de descente de gradient (SGD pour Stochastic Gradient Descent)"
      ],
      "metadata": {
        "id": "UdUsczwfq2J0"
      }
    },
    {
      "cell_type": "code",
      "source": [
        "def train_model(X, y, model, num_iter=100, learning_rate=0.01):\n",
        "\n",
        "    # On définit notre fonction perte\n",
        "    objectif = ## CODEZ ICI ##\n",
        "\n",
        "    # On définit notre algorithme d'optimisation (SGD: Stochastic Gradient Descent)\n",
        "    optimizer = ## CODEZ ICI ##\n",
        "\n",
        "    for _ in range(num_iter):\n",
        "        inputs = torch.tensor(X)\n",
        "        targets = torch.tensor(y)\n",
        "\n",
        "        # Calculez les prédictions\n",
        "        outputs = ## CODEZ ICI ##\n",
        "\n",
        "        # Calculer la fonction objectif à partir des prédictions et des targets\n",
        "        loss = ## CODEZ ICI ##\n",
        "\n",
        "        # Calcule le gradient\n",
        "        ## CODEZ ICI ##\n",
        "\n",
        "        # Applique une itération de descente de gradient aux paramètres du modèle\n",
        "        ## CODEZ ICI ##\n",
        "\n",
        "    return model"
      ],
      "metadata": {
        "id": "M-slPdkFeODL"
      },
      "execution_count": null,
      "outputs": []
    },
    {
      "cell_type": "markdown",
      "source": [
        "Maintenant que la fonction train_model est implémentée, nous pouvons l'appeler sur notre jeu de données et obtenir un modèle ajusté!\n",
        "\n",
        "Pour évaluer ses performances, il nous suffit simplement par la suite d'obtenir les prédictions du modèle en lui donnant en entrée nos variables explicatives, puis de calculer le taux d'exactitude.\n",
        "\n",
        "Ajuster et évaluer les performances de votre modèle pour les valeurs suivantes de l'argument learning rate: [1, 0.1, 0.01, 0.001]"
      ],
      "metadata": {
        "id": "3KYZWgrFuoE-"
      }
    },
    {
      "cell_type": "code",
      "source": [
        "# Instanciez un Tensor contenant nos deux variables explicatives\n",
        "X_lin = ## CODEZ ICI ##\n",
        "\n",
        "# Instanciez un Tensor contenant notre variable à prédire\n",
        "y = ## CODEZ ICI ##\n",
        "\n",
        "# Utilisez la fonction train_model pour ajuster votre modèle de régression linéaire sur votre jeux de données\n",
        "model_lin = ## CODEZ ICI ##\n",
        "\n",
        "# Utilisez le modèle obtenu pour calculer ses prédictions\n",
        "predictions = ## CODEZ ICI ##\n",
        "\n",
        "# Calculez l'erreur quadratique du modèle\n",
        "mse_lin = ## CODEZ ICI ##\n",
        "\n",
        "print(\"Erreur quadratique = %.3f\" % (mse_lin))\n"
      ],
      "metadata": {
        "id": "lHSA-kghunMD"
      },
      "execution_count": null,
      "outputs": []
    },
    {
      "cell_type": "markdown",
      "source": [
        "Encore une fois, l'erreur quadratique est dans l'absolu difficile à interpréter. On pourrait en revanche la comparer avec celle obtenue avec un modèle de régression univarié, ajusté seulement à partir du nombre d'heure passer à réviser (comme nous l'avons fait dans le premier TP).\n",
        "\n",
        "L'avantage avec l'objet Linear, c'est qu'il nous permet également d'implémenter ce modèle, tout en restant compatible avec notre fonction train_model.\n",
        "\n",
        "Instanciez un modèle de régression linéaire univarié et comparez ses performances avec celles du modèle précédent."
      ],
      "metadata": {
        "id": "ulJcGN3jVhLT"
      }
    },
    {
      "cell_type": "code",
      "source": [
        "# Instanciez un modèle de régression linéaire univarié à partir d'un objet Linear\n",
        "model_unilin = ## CODEZ ICI ##\n",
        "\n",
        "# Instanciez un Tensor contenant nos deux variables explicatives\n",
        "X_unilin = ## CODEZ ICI ##\n",
        "\n",
        "# Utilisez la fonction train_model pour ajuster votre modèle de régression linéaire sur votre jeux de données\n",
        "model_unilin = ## CODEZ ICI ##\n",
        "\n",
        "# Utilisez le modèle obtenu pour calculer ses prédictions\n",
        "predictions = ## CODEZ ICI ##\n",
        "\n",
        "# Calculez l'erreur quadratique du modèle\n",
        "mse_unilin = ## CODEZ ICI ##\n",
        "\n",
        "print(\"Erreur quadratique du modèle univarié   = %.3f\" % (mse_unilin))\n",
        "print(\"Erreur quadratique du modèle multivarié = %.3f\" % (mse_lin))"
      ],
      "metadata": {
        "id": "A8ToyYGiWPjP"
      },
      "execution_count": null,
      "outputs": []
    },
    {
      "cell_type": "markdown",
      "source": [
        "L'inclusion de la variable \"temps passé à travailler le cours chaque semaine\" amène t'elle un gain en terme de performances prédictives?"
      ],
      "metadata": {
        "id": "q2jI6I_jW7r4"
      }
    },
    {
      "cell_type": "markdown",
      "source": [
        "(Ecrivez votre réponse dans cette case)"
      ],
      "metadata": {
        "id": "L6A5NgvQXKXw"
      }
    }
  ]
}